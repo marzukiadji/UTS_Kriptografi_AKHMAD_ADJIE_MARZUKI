{
  "nbformat": 4,
  "nbformat_minor": 0,
  "metadata": {
    "colab": {
      "provenance": [],
      "authorship_tag": "ABX9TyN3m8jOPuNGrSnzSCX32aza",
      "include_colab_link": true
    },
    "kernelspec": {
      "name": "python3",
      "display_name": "Python 3"
    },
    "language_info": {
      "name": "python"
    }
  },
  "cells": [
    {
      "cell_type": "markdown",
      "metadata": {
        "id": "view-in-github",
        "colab_type": "text"
      },
      "source": [
        "<a href=\"https://colab.research.google.com/github/marzukiadji/UTS_Kriptografi_AKHMAD_ADJIE_MARZUKI/blob/main/AKHMAD_ADJIE_MARZUKI_Play_Fair_Cipher.ipynb\" target=\"_parent\"><img src=\"https://colab.research.google.com/assets/colab-badge.svg\" alt=\"Open In Colab\"/></a>"
      ]
    },
    {
      "cell_type": "code",
      "execution_count": 6,
      "metadata": {
        "colab": {
          "base_uri": "https://localhost:8080/"
        },
        "id": "61ac8IBhVb8z",
        "outputId": "e7168d86-eead-4dc9-cb63-44342344a0d6"
      },
      "outputs": [
        {
          "output_type": "stream",
          "name": "stdout",
          "text": [
            "Masukkan plaintext: ADJI\n",
            "Masukkan kunci: freepalestine\n",
            "Encrypted Text: EHNN\n"
          ]
        }
      ],
      "source": [
        "def generate_playfair_matrix(key):\n",
        "    # Membuat matriks Playfair berdasarkan kunci\n",
        "    alphabet = \"ABCDEFGHIKLMNOPQRSTUVWXYZ\"  # Menghilangkan J untuk menjaga matriks 5x5\n",
        "    key = key.upper().replace(\"J\", \"I\")\n",
        "    key += alphabet\n",
        "\n",
        "    playfair_matrix = []\n",
        "\n",
        "    for char in key:\n",
        "        if char not in playfair_matrix:\n",
        "            playfair_matrix.append(char)\n",
        "\n",
        "    playfair_matrix = [playfair_matrix[i:i+5] for i in range(0, 25, 5)]\n",
        "\n",
        "    return playfair_matrix\n",
        "\n",
        "def find_char_coordinates(matrix, char):\n",
        "    # Mencari koordinat karakter dalam matriks Playfair\n",
        "    for i, row in enumerate(matrix):\n",
        "        if char in row:\n",
        "            return i, row.index(char)\n",
        "\n",
        "def playfair_encrypt(plain_text, key):\n",
        "    # Enkripsi Playfair Cipher\n",
        "    matrix = generate_playfair_matrix(key)\n",
        "    encrypted_text = \"\"\n",
        "\n",
        "    plain_text = plain_text.upper().replace(\"J\", \"I\")\n",
        "    pairs = [plain_text[i:i+2] for i in range(0, len(plain_text), 2)]\n",
        "\n",
        "    for pair in pairs:\n",
        "        row1, col1 = find_char_coordinates(matrix, pair[0])\n",
        "        row2, col2 = find_char_coordinates(matrix, pair[1])\n",
        "\n",
        "        if row1 == row2:\n",
        "            encrypted_text += matrix[row1][(col1 + 1) % 5] + matrix[row2][(col2 + 1) % 5]\n",
        "        elif col1 == col2:\n",
        "            encrypted_text += matrix[(row1 + 1) % 5][col1] + matrix[(row2 + 1) % 5][col2]\n",
        "        else:\n",
        "            encrypted_text += matrix[row1][col2] + matrix[row2][col1]\n",
        "\n",
        "    return encrypted_text\n",
        "\n",
        "def main():\n",
        "    plaintext = input(\"Masukkan plaintext: \")\n",
        "    key = input(\"Masukkan kunci: \")\n",
        "\n",
        "    encrypted_text = playfair_encrypt(plaintext, key)\n",
        "    print(\"Encrypted Text:\", encrypted_text)\n",
        "\n",
        "if __name__ == \"__main__\":\n",
        "    main()\n"
      ]
    }
  ]
}