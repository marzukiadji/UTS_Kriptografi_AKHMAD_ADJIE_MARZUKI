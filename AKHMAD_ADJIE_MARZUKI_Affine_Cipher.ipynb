{
  "nbformat": 4,
  "nbformat_minor": 0,
  "metadata": {
    "colab": {
      "provenance": [],
      "authorship_tag": "ABX9TyO2GHeptwxo/IzNAWuj7fSj",
      "include_colab_link": true
    },
    "kernelspec": {
      "name": "python3",
      "display_name": "Python 3"
    },
    "language_info": {
      "name": "python"
    }
  },
  "cells": [
    {
      "cell_type": "markdown",
      "metadata": {
        "id": "view-in-github",
        "colab_type": "text"
      },
      "source": [
        "<a href=\"https://colab.research.google.com/github/marzukiadji/UTS_Kriptografi_AKHMAD_ADJIE_MARZUKI/blob/main/AKHMAD_ADJIE_MARZUKI_Affine_Cipher.ipynb\" target=\"_parent\"><img src=\"https://colab.research.google.com/assets/colab-badge.svg\" alt=\"Open In Colab\"/></a>"
      ]
    },
    {
      "cell_type": "code",
      "execution_count": null,
      "metadata": {
        "colab": {
          "base_uri": "https://localhost:8080/"
        },
        "id": "SqeNyu14VmN4",
        "outputId": "27338f60-b532-43ea-c34a-7ab0ca699e40"
      },
      "outputs": [
        {
          "output_type": "stream",
          "name": "stdout",
          "text": [
            "Masukkan plaintext: adjie marzuki\n",
            "Ciphertext: ixbwc qipdegw\n",
            "Plaintext terdekripsi: adjie marzuki\n"
          ]
        }
      ],
      "source": [
        "def mod_inverse(a, m):\n",
        "    # Fungsi untuk mencari invers modular multiplicative dari a modulo m menggunakan algoritma Euclidean yang diperluas\n",
        "    m0, x0, x1 = m, 0, 1\n",
        "    while a > 1:\n",
        "        q = a // m\n",
        "        m, a = a % m, m\n",
        "        x0, x1 = x1 - q * x0, x0\n",
        "    return x1 + m0 if x1 < 0 else x1\n",
        "\n",
        "def encrypt_affine(plaintext, a, b):\n",
        "    # Fungsi untuk mengenkripsi plaintext menggunakan Affine Cipher\n",
        "    ciphertext = \"\"\n",
        "    m = 26  # ukuran alfabet\n",
        "\n",
        "    for char in plaintext:\n",
        "        if char.isalpha():\n",
        "            if char.isupper():\n",
        "                # Enkripsi huruf kapital\n",
        "                ciphertext += chr((a * (ord(char) - ord('A')) + b) % m + ord('A'))\n",
        "            else:\n",
        "                # Enkripsi huruf kecil\n",
        "                ciphertext += chr((a * (ord(char) - ord('a')) + b) % m + ord('a'))\n",
        "        else:\n",
        "            # Tambahkan karakter non-huruf langsung ke ciphertext\n",
        "            ciphertext += char\n",
        "\n",
        "    return ciphertext\n",
        "\n",
        "def decrypt_affine(ciphertext, a, b):\n",
        "    # Fungsi untuk mendekripsi ciphertext menggunakan Affine Cipher\n",
        "    plaintext = \"\"\n",
        "    m = 26  # ukuran alfabet\n",
        "\n",
        "    # Temukan invers modular multiplicative dari a modulo m\n",
        "    a_inv = mod_inverse(a, m)\n",
        "\n",
        "    for char in ciphertext:\n",
        "        if char.isalpha():\n",
        "            if char.isupper():\n",
        "                # Dekripsi huruf kapital\n",
        "                plaintext += chr((a_inv * (ord(char) - ord('A') - b)) % m + ord('A'))\n",
        "            else:\n",
        "                # Dekripsi huruf kecil\n",
        "                plaintext += chr((a_inv * (ord(char) - ord('a') - b)) % m + ord('a'))\n",
        "        else:\n",
        "            # Tambahkan karakter non-huruf langsung ke plaintext\n",
        "            plaintext += char\n",
        "\n",
        "    return plaintext\n",
        "\n",
        "def main():\n",
        "    # Contoh nilai kunci (a, b)\n",
        "    a = 5\n",
        "    b = 8\n",
        "\n",
        "    # Dapatkan input pengguna untuk plaintext\n",
        "    plaintext = input(\"Masukkan plaintext: \")\n",
        "\n",
        "    # Enkripsi plaintext\n",
        "    ciphertext = encrypt_affine(plaintext, a, b)\n",
        "    print(\"Ciphertext:\", ciphertext)\n",
        "\n",
        "    # Dekripsi ciphertext\n",
        "    decrypted_text = decrypt_affine(ciphertext, a, b)\n",
        "    print(\"Plaintext terdekripsi:\", decrypted_text)\n",
        "\n",
        "if __name__ == \"__main__\":\n",
        "    main()\n"
      ]
    }
  ]
}