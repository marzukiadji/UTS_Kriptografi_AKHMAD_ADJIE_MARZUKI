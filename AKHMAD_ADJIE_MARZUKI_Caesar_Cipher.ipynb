{
  "nbformat": 4,
  "nbformat_minor": 0,
  "metadata": {
    "colab": {
      "provenance": [],
      "authorship_tag": "ABX9TyMh17OklemVM8+Fn7vO2y08",
      "include_colab_link": true
    },
    "kernelspec": {
      "name": "python3",
      "display_name": "Python 3"
    },
    "language_info": {
      "name": "python"
    }
  },
  "cells": [
    {
      "cell_type": "markdown",
      "metadata": {
        "id": "view-in-github",
        "colab_type": "text"
      },
      "source": [
        "<a href=\"https://colab.research.google.com/github/marzukiadji/UTS_Kriptografi_AKHMAD_ADJIE_MARZUKI/blob/main/AKHMAD_ADJIE_MARZUKI_Caesar_Cipher.ipynb\" target=\"_parent\"><img src=\"https://colab.research.google.com/assets/colab-badge.svg\" alt=\"Open In Colab\"/></a>"
      ]
    },
    {
      "cell_type": "code",
      "execution_count": null,
      "metadata": {
        "colab": {
          "base_uri": "https://localhost:8080/"
        },
        "id": "eyppnz1yJmDl",
        "outputId": "eb457ca0-f2b1-4568-c750-a6ceaf0a717f"
      },
      "outputs": [
        {
          "output_type": "stream",
          "name": "stdout",
          "text": [
            "Masukkan teks untuk dienkripsi: Akhmad Adjie Marzuki\n",
            "Masukkan nilai geser: 7\n",
            "===================================================\n",
            "Teks terenkripsi: Hrothk Hkqpl Thygbrp\n",
            "Teks terdekripsi: Akhmad Adjie Marzuki\n"
          ]
        }
      ],
      "source": [
        "def enkripsi(teks, geser):\n",
        "    teks_terenkripsi = \"\"\n",
        "\n",
        "    # Iterasi melalui setiap karakter dalam plaintext\n",
        "    for char in teks:\n",
        "        # Periksa apakah karakter tersebut huruf kapital\n",
        "        if char.isupper():\n",
        "            # Geser karakter sebanyak nilai yang ditentukan, dengan pembungkus jika diperlukan\n",
        "            char_terenkripsi = chr((ord(char) + geser - ord('A')) % 26 + ord('A'))\n",
        "        # Periksa apakah karakter tersebut huruf kecil\n",
        "        elif char.islower():\n",
        "            # Geser karakter sebanyak nilai yang ditentukan, dengan pembungkus jika diperlukan\n",
        "            char_terenkripsi = chr((ord(char) + geser - ord('a')) % 26 + ord('a'))\n",
        "        else:\n",
        "            # Jika karakter bukan huruf, biarkan tetap tidak berubah\n",
        "            char_terenkripsi = char\n",
        "\n",
        "        # Tambahkan karakter terenkripsi ke hasil\n",
        "        teks_terenkripsi += char_terenkripsi\n",
        "\n",
        "    return teks_terenkripsi\n",
        "\n",
        "def dekripsi(teks, geser):\n",
        "    # Dekripsi sama seperti enkripsi, namun dengan geseran negatif\n",
        "    return enkripsi(teks, -geser)\n",
        "\n",
        "def main():\n",
        "    # Dapatkan input pengguna untuk teks dan nilai geser\n",
        "    teks_awal = input(\"Masukkan teks untuk dienkripsi: \")\n",
        "    geser = int(input(\"Masukkan nilai geser: \"))\n",
        "    print(\"===================================================\")\n",
        "\n",
        "    # Enkripsi teks awal\n",
        "    teks_terenkripsi = enkripsi(teks_awal, geser)\n",
        "    print(\"Teks terenkripsi:\", teks_terenkripsi)\n",
        "\n",
        "    # Dekripsi teks terenkripsi\n",
        "    teks_terdekripsi = dekripsi(teks_terenkripsi, geser)\n",
        "    print(\"Teks terdekripsi:\", teks_terdekripsi)\n",
        "\n",
        "if __name__ == \"__main__\":\n",
        "    main()\n"
      ]
    }
  ]
}