{
  "nbformat": 4,
  "nbformat_minor": 0,
  "metadata": {
    "colab": {
      "provenance": [],
      "authorship_tag": "ABX9TyMqpcNpfKmUJZoWldpubxjU",
      "include_colab_link": true
    },
    "kernelspec": {
      "name": "python3",
      "display_name": "Python 3"
    },
    "language_info": {
      "name": "python"
    }
  },
  "cells": [
    {
      "cell_type": "markdown",
      "metadata": {
        "id": "view-in-github",
        "colab_type": "text"
      },
      "source": [
        "<a href=\"https://colab.research.google.com/github/marzukiadji/UTS_Kriptografi_AKHMAD_ADJIE_MARZUKI/blob/main/AKHMAD_ADJIE_MARZUKI_Vigenre_Cipher.ipynb\" target=\"_parent\"><img src=\"https://colab.research.google.com/assets/colab-badge.svg\" alt=\"Open In Colab\"/></a>"
      ]
    },
    {
      "cell_type": "code",
      "execution_count": null,
      "metadata": {
        "colab": {
          "base_uri": "https://localhost:8080/"
        },
        "id": "yk0HB6kvKxST",
        "outputId": "776569ff-25e2-4dcb-c450-9d1a3191e467"
      },
      "outputs": [
        {
          "output_type": "stream",
          "name": "stdout",
          "text": [
            "Masukkan teks untuk dienkripsi: Akhmad Adjie Marzuki\n",
            "Masukkan kunci: FreePalestine\n",
            "=================================================\n",
            "Teks terenkripsi: Fblqpd Lhbbm Zewqyox\n",
            "Teks terdekripsi: Akhmad Adjie Marzuki\n"
          ]
        }
      ],
      "source": [
        "def enkripsi_vigenere(teks, kunci):\n",
        "    teks_terenkripsi = \"\"\n",
        "\n",
        "    # Ubah kunci menjadi huruf kapital\n",
        "    kunci = kunci.upper()\n",
        "\n",
        "    # Inisialisasi indeks kunci\n",
        "    indeks_kunci = 0\n",
        "\n",
        "    # Iterasi melalui setiap karakter dalam plaintext\n",
        "    for char in teks:\n",
        "        # Periksa apakah karakter tersebut huruf\n",
        "        if char.isalpha():\n",
        "            # Tentukan nilai geser berdasarkan karakter kunci\n",
        "            geser = ord(kunci[indeks_kunci % len(kunci)]) - ord('A')\n",
        "\n",
        "            # Periksa apakah karakter tersebut huruf kapital\n",
        "            if char.isupper():\n",
        "                # Geser karakter sebanyak nilai yang ditentukan, dengan pembungkus jika diperlukan\n",
        "                char_terenkripsi = chr((ord(char) + geser - ord('A')) % 26 + ord('A'))\n",
        "            else:\n",
        "                # Geser karakter sebanyak nilai yang ditentukan, dengan pembungkus jika diperlukan\n",
        "                char_terenkripsi = chr((ord(char) + geser - ord('a')) % 26 + ord('a'))\n",
        "\n",
        "            # Tambahkan karakter terenkripsi ke hasil\n",
        "            teks_terenkripsi += char_terenkripsi\n",
        "\n",
        "            # Tambahkan indeks kunci untuk mengganti kunci pada setiap karakter\n",
        "            indeks_kunci += 1\n",
        "        else:\n",
        "            # Jika karakter bukan huruf, biarkan tetap tidak berubah\n",
        "            teks_terenkripsi += char\n",
        "\n",
        "    return teks_terenkripsi\n",
        "\n",
        "def dekripsi_vigenere(teks, kunci):\n",
        "    teks_terdekripsi = \"\"\n",
        "\n",
        "    # Ubah kunci menjadi huruf kapital\n",
        "    kunci = kunci.upper()\n",
        "\n",
        "    # Inisialisasi indeks kunci\n",
        "    indeks_kunci = 0\n",
        "\n",
        "    # Iterasi melalui setiap karakter dalam teks terenkripsi\n",
        "    for char in teks:\n",
        "        # Periksa apakah karakter tersebut huruf\n",
        "        if char.isalpha():\n",
        "            # Tentukan nilai geser berdasarkan karakter kunci\n",
        "            geser = ord(kunci[indeks_kunci % len(kunci)]) - ord('A')\n",
        "\n",
        "            # Periksa apakah karakter tersebut huruf kapital\n",
        "            if char.isupper():\n",
        "                # Geser karakter sebanyak nilai yang ditentukan, dengan pembungkus jika diperlukan\n",
        "                char_terdekripsi = chr((ord(char) - geser - ord('A')) % 26 + ord('A'))\n",
        "            else:\n",
        "                # Geser karakter sebanyak nilai yang ditentukan, dengan pembungkus jika diperlukan\n",
        "                char_terdekripsi = chr((ord(char) - geser - ord('a')) % 26 + ord('a'))\n",
        "\n",
        "            # Tambahkan karakter terdekripsi ke hasil\n",
        "            teks_terdekripsi += char_terdekripsi\n",
        "\n",
        "            # Tambahkan indeks kunci untuk mengganti kunci pada setiap karakter\n",
        "            indeks_kunci += 1\n",
        "        else:\n",
        "            # Jika karakter bukan huruf, biarkan tetap tidak berubah\n",
        "            teks_terdekripsi += char\n",
        "\n",
        "    return teks_terdekripsi\n",
        "\n",
        "def main():\n",
        "    # Dapatkan input pengguna untuk teks dan kunci\n",
        "    teks_awal = input(\"Masukkan teks untuk dienkripsi: \")\n",
        "    kunci = input(\"Masukkan kunci: \")\n",
        "    print(\"=================================================\")\n",
        "\n",
        "    # Enkripsi teks awal\n",
        "    teks_terenkripsi = enkripsi_vigenere(teks_awal, kunci)\n",
        "    print(\"Teks terenkripsi:\", teks_terenkripsi)\n",
        "\n",
        "    # Dekripsi teks terenkripsi\n",
        "    teks_terdekripsi = dekripsi_vigenere(teks_terenkripsi, kunci)\n",
        "    print(\"Teks terdekripsi:\", teks_terdekripsi)\n",
        "\n",
        "if __name__ == \"__main__\":\n",
        "    main()\n"
      ]
    }
  ]
}