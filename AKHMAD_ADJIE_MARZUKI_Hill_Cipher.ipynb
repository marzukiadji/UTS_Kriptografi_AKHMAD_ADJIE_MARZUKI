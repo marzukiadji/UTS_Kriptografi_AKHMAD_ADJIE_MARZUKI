{
  "nbformat": 4,
  "nbformat_minor": 0,
  "metadata": {
    "colab": {
      "provenance": [],
      "authorship_tag": "ABX9TyMft+lc+Ltoszymm63zqQGo",
      "include_colab_link": true
    },
    "kernelspec": {
      "name": "python3",
      "display_name": "Python 3"
    },
    "language_info": {
      "name": "python"
    }
  },
  "cells": [
    {
      "cell_type": "markdown",
      "metadata": {
        "id": "view-in-github",
        "colab_type": "text"
      },
      "source": [
        "<a href=\"https://colab.research.google.com/github/marzukiadji/UTS_Kriptografi_AKHMAD_ADJIE_MARZUKI/blob/main/AKHMAD_ADJIE_MARZUKI_Hill_Cipher.ipynb\" target=\"_parent\"><img src=\"https://colab.research.google.com/assets/colab-badge.svg\" alt=\"Open In Colab\"/></a>"
      ]
    },
    {
      "cell_type": "code",
      "execution_count": null,
      "metadata": {
        "colab": {
          "base_uri": "https://localhost:8080/"
        },
        "id": "gO00hW4DTHDk",
        "outputId": "b9142264-23ef-49fb-d99c-c2d24d42f8b9"
      },
      "outputs": [
        {
          "output_type": "stream",
          "name": "stdout",
          "text": [
            "Masukkan teks untuk dienkripsi: Akhmad Adjie Marzuki\n",
            "Masukkan kunci (panjang kunci harus berupa kuadrat): 16,3\n",
            "=====================================================================\n",
            "Teks terenkripsi: UQQXTKIRJTKKGFVWEBMQ\n",
            "Teks terdekripsi: OCVEWRPOOQESETHNGQYA\n"
          ]
        }
      ],
      "source": [
        "import numpy as np\n",
        "\n",
        "def enkripsi_hill(teks, kunci):\n",
        "    teks_terenkripsi = \"\"\n",
        "\n",
        "    # Ubah teks menjadi huruf kapital\n",
        "    teks = teks.upper()\n",
        "\n",
        "    # Tentukan ukuran matriks kunci\n",
        "    ukuran_kunci = int(np.sqrt(len(kunci)))\n",
        "    kunci_matrix = np.array([ord(char) - ord('A') for char in kunci], dtype=int).reshape((ukuran_kunci, ukuran_kunci))\n",
        "\n",
        "    # Padding teks jika panjangnya tidak sesuai dengan ukuran matriks kunci\n",
        "    sisa = len(teks) % ukuran_kunci\n",
        "    if sisa != 0:\n",
        "        teks += 'X' * (ukuran_kunci - sisa)\n",
        "\n",
        "    # Iterasi melalui blok-blok teks dengan ukuran matriks kunci\n",
        "    for i in range(0, len(teks), ukuran_kunci):\n",
        "        blok_teks = np.array([ord(char) - ord('A') for char in teks[i:i+ukuran_kunci]], dtype=int).reshape((ukuran_kunci, 1))\n",
        "\n",
        "        # Enkripsi matriks blok teks dengan matriks kunci\n",
        "        blok_terenkripsi = np.dot(kunci_matrix, blok_teks) % 26\n",
        "\n",
        "        # Konversi hasil enkripsi ke dalam bentuk huruf\n",
        "        hasil_enkripsi = [chr(int(char) + ord('A')) for char in blok_terenkripsi]\n",
        "\n",
        "        # Tambahkan hasil enkripsi ke teks terenkripsi\n",
        "        teks_terenkripsi += ''.join(hasil_enkripsi)\n",
        "\n",
        "    return teks_terenkripsi\n",
        "\n",
        "def dekripsi_hill(teks, kunci):\n",
        "    teks_terdekripsi = \"\"\n",
        "\n",
        "    # Ubah teks menjadi huruf kapital\n",
        "    teks = teks.upper()\n",
        "\n",
        "    # Tentukan ukuran matriks kunci\n",
        "    ukuran_kunci = int(np.sqrt(len(kunci)))\n",
        "    kunci_matrix = np.array([ord(char) - ord('A') for char in kunci], dtype=int).reshape((ukuran_kunci, ukuran_kunci))\n",
        "\n",
        "    # Iterasi melalui blok-blok teks dengan ukuran matriks kunci\n",
        "    for i in range(0, len(teks), ukuran_kunci):\n",
        "        blok_teks = np.array([ord(char) - ord('A') for char in teks[i:i+ukuran_kunci]], dtype=int).reshape((ukuran_kunci, 1))\n",
        "\n",
        "        # Invers matriks kunci\n",
        "        kunci_inverse = np.linalg.inv(kunci_matrix)\n",
        "\n",
        "        # Dekripsi matriks blok teks dengan invers matriks kunci\n",
        "        blok_terdekripsi = np.dot(kunci_inverse, blok_teks) % 26\n",
        "\n",
        "        # Konversi hasil dekripsi ke dalam bentuk huruf\n",
        "        hasil_dekripsi = [chr(int(char) + ord('A')) for char in blok_terdekripsi]\n",
        "\n",
        "        # Tambahkan hasil dekripsi ke teks terdekripsi\n",
        "        teks_terdekripsi += ''.join(hasil_dekripsi)\n",
        "\n",
        "    return teks_terdekripsi\n",
        "\n",
        "def main():\n",
        "    # Dapatkan input pengguna untuk teks dan kunci\n",
        "    teks_awal = input(\"Masukkan teks untuk dienkripsi: \")\n",
        "    kunci = input(\"Masukkan kunci (panjang kunci harus berupa kuadrat): \")\n",
        "    print(\"=====================================================================\")\n",
        "\n",
        "    # Enkripsi teks awal\n",
        "    teks_terenkripsi = enkripsi_hill(teks_awal, kunci)\n",
        "    print(\"Teks terenkripsi:\", teks_terenkripsi)\n",
        "\n",
        "    # Dekripsi teks terenkripsi\n",
        "    teks_terdekripsi = dekripsi_hill(teks_terenkripsi, kunci)\n",
        "    print(\"Teks terdekripsi:\", teks_terdekripsi)\n",
        "\n",
        "if __name__ == \"__main__\":\n",
        "    main()\n"
      ]
    }
  ]
}